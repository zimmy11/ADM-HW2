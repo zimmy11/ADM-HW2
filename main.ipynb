{
 "cells": [
  {
   "cell_type": "markdown",
   "metadata": {},
   "source": [
    "# **Homework 2 - Videogames Reviews**\n",
    "\n",
    "*Group#12*\n",
    "\n",
    "- **Marco Zimmatore** - [zimmatore.1947442@studenti.uniroma1.it](zimmatore.1947442@studenti.uniroma1.it)\n",
    "- **Camilla Labbate** - [camillalabbate02@icloud.com](camillalabbate02@icloud.com)\n",
    "- **Francesco De Martino** - [Demartino.1908303@studenti.uniroma1.it](Demartino.1908303@studenti.uniroma1.it)\n",
    "- **Alessandro Querqui** - [querqui.2031384@studenti.uniroma1.it](querqui.2031384@studenti.uniroma1.it)"
   ]
  },
  {
   "cell_type": "markdown",
   "metadata": {},
   "source": [
    "### **Libraries**"
   ]
  },
  {
   "cell_type": "code",
   "execution_count": 2,
   "metadata": {},
   "outputs": [],
   "source": [
    "#Import The Libraries to manage and plot data\n",
    "%matplotlib inline\n",
    "import pandas as pd \n",
    "import matplotlib.pyplot as plt\n",
    "import functions\n",
    "import numpy as np\n",
    "import seaborn as sns\n",
    "import importlib"
   ]
  },
  {
   "cell_type": "code",
   "execution_count": 27,
   "metadata": {},
   "outputs": [
    {
     "data": {
      "text/plain": [
       "<module 'functions' from 'c:\\\\Users\\\\Marco\\\\Desktop\\\\Data Science Magistrale\\\\ADM\\\\ADM-HW2\\\\ADM-HW2\\\\functions.py'>"
      ]
     },
     "execution_count": 27,
     "metadata": {},
     "output_type": "execute_result"
    }
   ],
   "source": [
    "#To avoid to restart the kernel whenever we change a function \n",
    "\n",
    "importlib.reload(functions)"
   ]
  },
  {
   "cell_type": "markdown",
   "metadata": {},
   "source": [
    "### **[RQ1] - Exploratory Data Analysis (EDA)**"
   ]
  },
  {
   "cell_type": "markdown",
   "metadata": {},
   "source": [
    " EDA is a fundamental step to gain a clear view of the data, identify any anomalies, trends, correlations, and structure the dataset for further analysis."
   ]
  },
  {
   "cell_type": "markdown",
   "metadata": {},
   "source": [
    "Fitst of all, we load the csv file into a DataFrame "
   ]
  },
  {
   "cell_type": "code",
   "execution_count": 4,
   "metadata": {},
   "outputs": [],
   "source": [
    "df = pd.read_csv(\"../steam_reviews.csv\")"
   ]
  },
  {
   "cell_type": "markdown",
   "metadata": {},
   "source": [
    "#### **1. Exploring the Dataset**\n",
    "\n",
    "Before doing further analysis, we want to understand the data. To do that, we can inspect the first rows of the dataset, check the dataset dimensions, identify the data types of each columns or count missing values."
   ]
  },
  {
   "cell_type": "code",
   "execution_count": null,
   "metadata": {},
   "outputs": [
    {
     "ename": "NameError",
     "evalue": "name 'df' is not defined",
     "output_type": "error",
     "traceback": [
      "\u001b[1;31m---------------------------------------------------------------------------\u001b[0m",
      "\u001b[1;31mNameError\u001b[0m                                 Traceback (most recent call last)",
      "Cell \u001b[1;32mIn[1], line 2\u001b[0m\n\u001b[0;32m      1\u001b[0m \u001b[38;5;66;03m#Print the first Three Rows of the DataFrame\u001b[39;00m\n\u001b[1;32m----> 2\u001b[0m \u001b[43mdf\u001b[49m\u001b[38;5;241m.\u001b[39mhead(\u001b[38;5;241m3\u001b[39m)\n",
      "\u001b[1;31mNameError\u001b[0m: name 'df' is not defined"
     ]
    }
   ],
   "source": [
    "#Print the first Three Rows of the DataFrame\n",
    "df.head(3)"
   ]
  },
  {
   "cell_type": "code",
   "execution_count": 21,
   "metadata": {},
   "outputs": [
    {
     "name": "stdout",
     "output_type": "stream",
     "text": [
      "List of Columns of the DataFrame: Index(['Unnamed: 0', 'app_id', 'app_name', 'review_id', 'language', 'review',\n",
      "       'timestamp_created', 'timestamp_updated', 'recommended',\n",
      "       'votes_helpful', 'votes_funny', 'weighted_vote_score', 'comment_count',\n",
      "       'steam_purchase', 'received_for_free', 'written_during_early_access',\n",
      "       'author.steamid', 'author.num_games_owned', 'author.num_reviews',\n",
      "       'author.playtime_forever', 'author.playtime_last_two_weeks',\n",
      "       'author.playtime_at_review', 'author.last_played'],\n",
      "      dtype='object') \n",
      "\n",
      "Shape of the DataFrame: (21747371, 23) \n",
      "\n",
      "Data Types of the columns: Unnamed: 0                          int64\n",
      "app_id                              int64\n",
      "app_name                           object\n",
      "review_id                           int64\n",
      "language                           object\n",
      "review                             object\n",
      "timestamp_created                   int64\n",
      "timestamp_updated                   int64\n",
      "recommended                          bool\n",
      "votes_helpful                       int64\n",
      "votes_funny                         int64\n",
      "weighted_vote_score               float64\n",
      "comment_count                       int64\n",
      "steam_purchase                       bool\n",
      "received_for_free                    bool\n",
      "written_during_early_access          bool\n",
      "author.steamid                      int64\n",
      "author.num_games_owned              int64\n",
      "author.num_reviews                  int64\n",
      "author.playtime_forever           float64\n",
      "author.playtime_last_two_weeks    float64\n",
      "author.playtime_at_review         float64\n",
      "author.last_played                float64\n",
      "dtype: object \n",
      "\n",
      "Number of missing values: Unnamed: 0                            0\n",
      "app_id                                0\n",
      "app_name                              0\n",
      "review_id                             0\n",
      "language                              0\n",
      "review                            33748\n",
      "timestamp_created                     0\n",
      "timestamp_updated                     0\n",
      "recommended                           0\n",
      "votes_helpful                         0\n",
      "votes_funny                           0\n",
      "weighted_vote_score                   0\n",
      "comment_count                         0\n",
      "steam_purchase                        0\n",
      "received_for_free                     0\n",
      "written_during_early_access           0\n",
      "author.steamid                        0\n",
      "author.num_games_owned                0\n",
      "author.num_reviews                    0\n",
      "author.playtime_forever               2\n",
      "author.playtime_last_two_weeks        2\n",
      "author.playtime_at_review         25682\n",
      "author.last_played                    2\n",
      "dtype: int64\n"
     ]
    }
   ],
   "source": [
    "functions.explore(df)"
   ]
  },
  {
   "cell_type": "markdown",
   "metadata": {},
   "source": [
    "#### **2. Tabular Summary**\n",
    "\n",
    "The second step of EDA is to calculate statistics like mean, median, minimum through the Pandas function **describe()** and explore how data is ditributed ( for example, check if there are outliers...)."
   ]
  },
  {
   "cell_type": "code",
   "execution_count": 25,
   "metadata": {},
   "outputs": [
    {
     "data": {
      "text/html": [
       "<div>\n",
       "<style scoped>\n",
       "    .dataframe tbody tr th:only-of-type {\n",
       "        vertical-align: middle;\n",
       "    }\n",
       "\n",
       "    .dataframe tbody tr th {\n",
       "        vertical-align: top;\n",
       "    }\n",
       "\n",
       "    .dataframe thead th {\n",
       "        text-align: right;\n",
       "    }\n",
       "</style>\n",
       "<table border=\"1\" class=\"dataframe\">\n",
       "  <thead>\n",
       "    <tr style=\"text-align: right;\">\n",
       "      <th></th>\n",
       "      <th>app_id</th>\n",
       "      <th>review_id</th>\n",
       "      <th>timestamp_created</th>\n",
       "      <th>timestamp_updated</th>\n",
       "      <th>votes_helpful</th>\n",
       "      <th>votes_funny</th>\n",
       "      <th>weighted_vote_score</th>\n",
       "      <th>comment_count</th>\n",
       "      <th>author.steamid</th>\n",
       "      <th>author.num_games_owned</th>\n",
       "      <th>author.num_reviews</th>\n",
       "      <th>author.playtime_forever</th>\n",
       "      <th>author.playtime_last_two_weeks</th>\n",
       "      <th>author.playtime_at_review</th>\n",
       "      <th>author.last_played</th>\n",
       "    </tr>\n",
       "  </thead>\n",
       "  <tbody>\n",
       "    <tr>\n",
       "      <th>count</th>\n",
       "      <td>2.174737e+07</td>\n",
       "      <td>2.174737e+07</td>\n",
       "      <td>2.174737e+07</td>\n",
       "      <td>2.174737e+07</td>\n",
       "      <td>2.174737e+07</td>\n",
       "      <td>2.174737e+07</td>\n",
       "      <td>2.174737e+07</td>\n",
       "      <td>2.174737e+07</td>\n",
       "      <td>2.174737e+07</td>\n",
       "      <td>2.174737e+07</td>\n",
       "      <td>2.174737e+07</td>\n",
       "      <td>2.174737e+07</td>\n",
       "      <td>2.174737e+07</td>\n",
       "      <td>2.172169e+07</td>\n",
       "      <td>2.174737e+07</td>\n",
       "    </tr>\n",
       "    <tr>\n",
       "      <th>mean</th>\n",
       "      <td>3.928181e+05</td>\n",
       "      <td>5.187500e+07</td>\n",
       "      <td>1.544432e+09</td>\n",
       "      <td>1.547556e+09</td>\n",
       "      <td>4.044689e+05</td>\n",
       "      <td>1.267917e+05</td>\n",
       "      <td>1.654424e-01</td>\n",
       "      <td>1.308768e-01</td>\n",
       "      <td>7.656120e+16</td>\n",
       "      <td>1.011300e+06</td>\n",
       "      <td>4.044775e+05</td>\n",
       "      <td>1.609105e+04</td>\n",
       "      <td>1.555421e+02</td>\n",
       "      <td>8.807421e+03</td>\n",
       "      <td>1.580505e+09</td>\n",
       "    </tr>\n",
       "    <tr>\n",
       "      <th>std</th>\n",
       "      <td>2.480977e+05</td>\n",
       "      <td>2.084267e+07</td>\n",
       "      <td>5.812194e+07</td>\n",
       "      <td>5.689899e+07</td>\n",
       "      <td>1.333741e+09</td>\n",
       "      <td>2.333553e+07</td>\n",
       "      <td>2.434006e-01</td>\n",
       "      <td>2.199398e+00</td>\n",
       "      <td>3.179134e+08</td>\n",
       "      <td>2.108829e+09</td>\n",
       "      <td>1.333741e+09</td>\n",
       "      <td>3.743057e+04</td>\n",
       "      <td>7.300488e+02</td>\n",
       "      <td>2.388553e+04</td>\n",
       "      <td>4.676178e+07</td>\n",
       "    </tr>\n",
       "    <tr>\n",
       "      <th>min</th>\n",
       "      <td>7.000000e+01</td>\n",
       "      <td>4.300000e+01</td>\n",
       "      <td>1.290198e+09</td>\n",
       "      <td>1.290198e+09</td>\n",
       "      <td>0.000000e+00</td>\n",
       "      <td>0.000000e+00</td>\n",
       "      <td>0.000000e+00</td>\n",
       "      <td>0.000000e+00</td>\n",
       "      <td>7.656120e+16</td>\n",
       "      <td>0.000000e+00</td>\n",
       "      <td>1.000000e+00</td>\n",
       "      <td>0.000000e+00</td>\n",
       "      <td>0.000000e+00</td>\n",
       "      <td>1.000000e+00</td>\n",
       "      <td>0.000000e+00</td>\n",
       "    </tr>\n",
       "    <tr>\n",
       "      <th>25%</th>\n",
       "      <td>2.427600e+05</td>\n",
       "      <td>3.639355e+07</td>\n",
       "      <td>1.510223e+09</td>\n",
       "      <td>1.511729e+09</td>\n",
       "      <td>0.000000e+00</td>\n",
       "      <td>0.000000e+00</td>\n",
       "      <td>0.000000e+00</td>\n",
       "      <td>0.000000e+00</td>\n",
       "      <td>7.656120e+16</td>\n",
       "      <td>2.200000e+01</td>\n",
       "      <td>2.000000e+00</td>\n",
       "      <td>1.250000e+03</td>\n",
       "      <td>0.000000e+00</td>\n",
       "      <td>5.590000e+02</td>\n",
       "      <td>1.573329e+09</td>\n",
       "    </tr>\n",
       "    <tr>\n",
       "      <th>50%</th>\n",
       "      <td>3.595500e+05</td>\n",
       "      <td>5.384058e+07</td>\n",
       "      <td>1.562446e+09</td>\n",
       "      <td>1.572189e+09</td>\n",
       "      <td>0.000000e+00</td>\n",
       "      <td>0.000000e+00</td>\n",
       "      <td>0.000000e+00</td>\n",
       "      <td>0.000000e+00</td>\n",
       "      <td>7.656120e+16</td>\n",
       "      <td>6.100000e+01</td>\n",
       "      <td>4.000000e+00</td>\n",
       "      <td>4.307000e+03</td>\n",
       "      <td>0.000000e+00</td>\n",
       "      <td>1.881000e+03</td>\n",
       "      <td>1.599058e+09</td>\n",
       "    </tr>\n",
       "    <tr>\n",
       "      <th>75%</th>\n",
       "      <td>5.780800e+05</td>\n",
       "      <td>6.928793e+07</td>\n",
       "      <td>1.589696e+09</td>\n",
       "      <td>1.591403e+09</td>\n",
       "      <td>1.000000e+00</td>\n",
       "      <td>0.000000e+00</td>\n",
       "      <td>4.827586e-01</td>\n",
       "      <td>0.000000e+00</td>\n",
       "      <td>7.656120e+16</td>\n",
       "      <td>1.450000e+02</td>\n",
       "      <td>1.000000e+01</td>\n",
       "      <td>1.491200e+04</td>\n",
       "      <td>0.000000e+00</td>\n",
       "      <td>6.823000e+03</td>\n",
       "      <td>1.609002e+09</td>\n",
       "    </tr>\n",
       "    <tr>\n",
       "      <th>max</th>\n",
       "      <td>1.291340e+06</td>\n",
       "      <td>8.521867e+07</td>\n",
       "      <td>1.611426e+09</td>\n",
       "      <td>2.283383e+09</td>\n",
       "      <td>4.398047e+12</td>\n",
       "      <td>4.294967e+09</td>\n",
       "      <td>9.959868e-01</td>\n",
       "      <td>4.893000e+03</td>\n",
       "      <td>7.656120e+16</td>\n",
       "      <td>4.398047e+12</td>\n",
       "      <td>4.398047e+12</td>\n",
       "      <td>3.744943e+06</td>\n",
       "      <td>2.703900e+04</td>\n",
       "      <td>3.228103e+06</td>\n",
       "      <td>1.611434e+09</td>\n",
       "    </tr>\n",
       "  </tbody>\n",
       "</table>\n",
       "</div>"
      ],
      "text/plain": [
       "             app_id     review_id  timestamp_created  timestamp_updated  \\\n",
       "count  2.174737e+07  2.174737e+07       2.174737e+07       2.174737e+07   \n",
       "mean   3.928181e+05  5.187500e+07       1.544432e+09       1.547556e+09   \n",
       "std    2.480977e+05  2.084267e+07       5.812194e+07       5.689899e+07   \n",
       "min    7.000000e+01  4.300000e+01       1.290198e+09       1.290198e+09   \n",
       "25%    2.427600e+05  3.639355e+07       1.510223e+09       1.511729e+09   \n",
       "50%    3.595500e+05  5.384058e+07       1.562446e+09       1.572189e+09   \n",
       "75%    5.780800e+05  6.928793e+07       1.589696e+09       1.591403e+09   \n",
       "max    1.291340e+06  8.521867e+07       1.611426e+09       2.283383e+09   \n",
       "\n",
       "       votes_helpful   votes_funny  weighted_vote_score  comment_count  \\\n",
       "count   2.174737e+07  2.174737e+07         2.174737e+07   2.174737e+07   \n",
       "mean    4.044689e+05  1.267917e+05         1.654424e-01   1.308768e-01   \n",
       "std     1.333741e+09  2.333553e+07         2.434006e-01   2.199398e+00   \n",
       "min     0.000000e+00  0.000000e+00         0.000000e+00   0.000000e+00   \n",
       "25%     0.000000e+00  0.000000e+00         0.000000e+00   0.000000e+00   \n",
       "50%     0.000000e+00  0.000000e+00         0.000000e+00   0.000000e+00   \n",
       "75%     1.000000e+00  0.000000e+00         4.827586e-01   0.000000e+00   \n",
       "max     4.398047e+12  4.294967e+09         9.959868e-01   4.893000e+03   \n",
       "\n",
       "       author.steamid  author.num_games_owned  author.num_reviews  \\\n",
       "count    2.174737e+07            2.174737e+07        2.174737e+07   \n",
       "mean     7.656120e+16            1.011300e+06        4.044775e+05   \n",
       "std      3.179134e+08            2.108829e+09        1.333741e+09   \n",
       "min      7.656120e+16            0.000000e+00        1.000000e+00   \n",
       "25%      7.656120e+16            2.200000e+01        2.000000e+00   \n",
       "50%      7.656120e+16            6.100000e+01        4.000000e+00   \n",
       "75%      7.656120e+16            1.450000e+02        1.000000e+01   \n",
       "max      7.656120e+16            4.398047e+12        4.398047e+12   \n",
       "\n",
       "       author.playtime_forever  author.playtime_last_two_weeks  \\\n",
       "count             2.174737e+07                    2.174737e+07   \n",
       "mean              1.609105e+04                    1.555421e+02   \n",
       "std               3.743057e+04                    7.300488e+02   \n",
       "min               0.000000e+00                    0.000000e+00   \n",
       "25%               1.250000e+03                    0.000000e+00   \n",
       "50%               4.307000e+03                    0.000000e+00   \n",
       "75%               1.491200e+04                    0.000000e+00   \n",
       "max               3.744943e+06                    2.703900e+04   \n",
       "\n",
       "       author.playtime_at_review  author.last_played  \n",
       "count               2.172169e+07        2.174737e+07  \n",
       "mean                8.807421e+03        1.580505e+09  \n",
       "std                 2.388553e+04        4.676178e+07  \n",
       "min                 1.000000e+00        0.000000e+00  \n",
       "25%                 5.590000e+02        1.573329e+09  \n",
       "50%                 1.881000e+03        1.599058e+09  \n",
       "75%                 6.823000e+03        1.609002e+09  \n",
       "max                 3.228103e+06        1.611434e+09  "
      ]
     },
     "execution_count": 25,
     "metadata": {},
     "output_type": "execute_result"
    }
   ],
   "source": [
    "#We dont wanna insert the Index column in the calculus\n",
    "df.iloc[:,1:].describe()"
   ]
  },
  {
   "cell_type": "code",
   "execution_count": 48,
   "metadata": {},
   "outputs": [
    {
     "name": "stdout",
     "output_type": "stream",
     "text": [
      "Number of outliers in helpful votes: 981848\n"
     ]
    }
   ],
   "source": [
    "#Numbers of Outliers of Steam Comment Count per App\n",
    "\n",
    "functions.ouliers(df)"
   ]
  },
  {
   "cell_type": "markdown",
   "metadata": {},
   "source": [
    "#### Others Interesting Checks"
   ]
  },
  {
   "cell_type": "code",
   "execution_count": 29,
   "metadata": {},
   "outputs": [
    {
     "data": {
      "text/plain": [
       "array(['The Witcher 3: Wild Hunt', 'Half-Life', 'Counter-Strike: Source',\n",
       "       'Half-Life 2: Episode Two', 'Portal 2', 'X Rebirth', \"Garry's Mod\",\n",
       "       \"Sid Meier's Civilization V\", 'Dead by Daylight',\n",
       "       \"Sid Meier's Civilization VI\", 'Subnautica', 'Human: Fall Flat',\n",
       "       'Beat Saber', 'Cold Waters', 'Banished', 'Celeste',\n",
       "       'Getting Over It with Bennett Foddy', 'A Hat in Time',\n",
       "       'Overcooked! 2', 'Slipstream', 'The Forest',\n",
       "       'Pogostuck: Rage With Your Friends', 'PC Building Simulator',\n",
       "       'RollerCoaster Tycoon World', 'NBA 2K18', 'NBA 2K21',\n",
       "       'Deus Ex: The Fall', 'Rapture Rejects', 'Artifact',\n",
       "       'Call of Duty: Infinite Warfare', 'Cube World', 'NBA 2K19',\n",
       "       'Nether', 'Wolfenstein: Youngblood',\n",
       "       'Warhammer 40,000: Dawn of War III', 'Takedown: Red Sabre',\n",
       "       'ATLAS', 'Stay Out', 'Identity', 'Umbrella Corps',\n",
       "       'Hunt Down The Freeman', 'WWE 2K20', 'Down To One', 'Axiom Verge',\n",
       "       'Guacamelee! Super Turbo Championship Edition',\n",
       "       'The Binding of Isaac: Rebirth', 'To the Moon', 'Cave Story+',\n",
       "       'Titan Souls', 'Shovel Knight: Treasure Trove', 'Super Meat Boy',\n",
       "       \"Don't Escape: 4 Days to Survive\", 'Volgarr the Viking',\n",
       "       'Momodora: Reverie Under the Moonlight', 'Enter the Gungeon',\n",
       "       'Shadow Complex Remastered', 'Salt and Sanctuary', '20XX',\n",
       "       'Hollow Knight', 'The End Is Nigh', 'Factorio', 'RimWorld',\n",
       "       'Insurgency: Sandstorm', 'Slay the Spire',\n",
       "       'Euro Truck Simulator 2', 'Wallpaper Engine',\n",
       "       'Pathfinder: Kingmaker', 'Farming Simulator 19', 'Foundation',\n",
       "       'GOD EATER 3', 'Kenshi', 'Into the Breach',\n",
       "       'Warhammer: Vermintide 2', 'A Way Out', 'Borderlands 3',\n",
       "       'Sekiro™: Shadows Die Twice', 'Total War: THREE KINGDOMS',\n",
       "       'DEATH STRANDING', 'MORDHAU', 'DOOM Eternal',\n",
       "       'Age of Empires: Definitive Edition', 'A Short Hike',\n",
       "       'The Henry Stickmin Collection', 'Crusader Kings III',\n",
       "       'Void Bastards', 'Stardew Valley',\n",
       "       \"Tom Clancy's Rainbow Six Siege\", 'Among Us',\n",
       "       '三国群英传8 Heroes of the Three Kingdoms 8', 'Blackwake',\n",
       "       'Little Nightmares', 'Bomber Crew', 'Neon Hardcorps',\n",
       "       'Dragon Cliff 龙崖', 'DRAGON BALL FighterZ', 'X-Blades', 'Rust',\n",
       "       'Nova Drift', 'Due Process', 'Far Cry 5', 'Raft', 'HITMAN™ 2',\n",
       "       \"Assassin's Creed Odyssey\", 'Hades', 'Phasmophobia', 'Helltaker',\n",
       "       'Mount & Blade: Warband', 'Totally Accurate Battle Simulator',\n",
       "       'People Playground', 'Doki Doki Literature Club',\n",
       "       'Resident Evil 2', 'Slime Rancher', 'Hotline Miami', 'Tomb Raider',\n",
       "       'Mirror', 'BattleBlock Theater', 'Dishonored',\n",
       "       'South Park™: The Stick of Truth™', 'Undertale', \"Don't Starve\",\n",
       "       'Rocket League', 'Persona 4 Golden', 'Dead Cells', 'OneShot',\n",
       "       'VA-11 Hall-A: Cyberpunk Bartender Action', 'Broforce',\n",
       "       'The Wolf Among Us', 'The Walking Dead',\n",
       "       'Divinity: Original Sin 2', 'Satisfactory',\n",
       "       'One Finger Death Punch', 'Bloons TD 6', 'Oxygen Not Included',\n",
       "       'Cuphead', 'ULTRAKILL', 'Baba Is You', 'Castle Crashers',\n",
       "       'Townscaper', 'Papers, Please', 'Senren＊Banka', 'GRIS', 'DUSK',\n",
       "       'Outlast', 'The Elder Scrolls V: Skyrim', 'The Room',\n",
       "       'FTL: Faster Than Light', 'There Is No Game: Wrong Dimension',\n",
       "       'Dying Light', 'American Truck Simulator', 'Saints Row: The Third',\n",
       "       'STAR WARS™ Empire at War: Gold Pack',\n",
       "       'Ori and the Will of the Wisps', 'BeamNG.drive', 'The Room Two',\n",
       "       'Age of Empires II (2013)', 'Ravenfield', 'Super Hexagon',\n",
       "       'BioShock Infinite', 'Just Shapes & Beats', 'DOOM', 'Black Mesa',\n",
       "       'Finding Paradise', 'Tabletop Simulator',\n",
       "       'Keep Talking and Nobody Explodes', 'Duck Game', 'STEINS;GATE',\n",
       "       'Danganronpa: Trigger Happy Havoc', 'Mark of the Ninja',\n",
       "       'Phoenix Wright: Ace Attorney Trilogy',\n",
       "       'Batman: Arkham Asylum GOTY Edition', 'Gunpoint',\n",
       "       'The Binding of Isaac', 'Danganronpa 2: Goodbye Despair',\n",
       "       'HuniePop', \"Grimm's Hollow\", 'Grand Theft Auto V',\n",
       "       \"PLAYERUNKNOWN'S BATTLEGROUNDS\", 'Monster Hunter: World',\n",
       "       'The Elder Scrolls Online', 'Total War: WARHAMMER II',\n",
       "       'Cities: Skylines', \"Assassin's Creed Origins\", 'Stellaris',\n",
       "       'Black Desert Online', 'Kingdom Come: Deliverance',\n",
       "       'Jurassic World Evolution', 'ARK: Survival Evolved',\n",
       "       \"No Man's Sky\", 'SCUM', 'Frostpunk',\n",
       "       \"Tom Clancy's Ghost Recon® Wildlands\",\n",
       "       'FINAL FANTASY XV WINDOWS EDITION', 'Fallout 4', 'DARK SOULS™ III',\n",
       "       'Rise of the Tomb Raider', 'Sword Art Online: Fatal Bullet',\n",
       "       'The Crew 2', 'DARK SOULS™: REMASTERED',\n",
       "       'Middle-earth™: Shadow of War™', 'Watch_Dogs 2',\n",
       "       'Pillars of Eternity II: Deadfire', 'Hearts of Iron IV',\n",
       "       'They Are Billions', 'Total War Saga: Thrones of Britannia',\n",
       "       \"Don't Starve Together\", 'Total War: ROME II - Emperor Edition',\n",
       "       'Call of Duty: WWII', 'BATTLETECH', 'Terraria', 'PAYDAY 2',\n",
       "       'XCOM 2', 'Deep Rock Galactic', 'The Sims(TM) 3', 'Hunt: Showdown',\n",
       "       'theHunter: Call of the Wild™', 'Conan Exiles',\n",
       "       'Two Point Hospital', 'Total War: WARHAMMER',\n",
       "       'The Elder Scrolls V: Skyrim Special Edition', 'Darkest Dungeon®',\n",
       "       'NieR:Automata™', 'Bless Online', 'Football Manager 2019',\n",
       "       'House Flipper', 'Surviving Mars', 'SOULCALIBUR VI', 'For Honor',\n",
       "       'Arma 3', 'Ni no Kuni™ II: Revenant Kingdom', 'SOS',\n",
       "       'Battle Royale Trainer', 'My Time At Portia', 'Iconoclasts',\n",
       "       'Railway Empire', 'Trailmakers', 'Staxel', 'BATTALION 1944',\n",
       "       'The Legend of Heroes: Trails of Cold Steel II',\n",
       "       'Rise of Industry', 'CHRONO TRIGGER', 'Freeman: Guerrilla Warfare',\n",
       "       'Dungreed', 'Puyo Puyo™Tetris® ', 'Secret of Mana',\n",
       "       'Farm Together', 'Cyberdimension Neptunia: 4 Goddesses Online',\n",
       "       'Fishing: Barents Sea', 'DYNASTY WARRIORS 9', 'We Were Here Too',\n",
       "       'METAL GEAR SURVIVE', 'Desolate', 'Eco',\n",
       "       'SENRAN KAGURA Peach Beach Splash', 'PixARK',\n",
       "       'Out of the Park Baseball 19', 'Devil May Cry HD Collection',\n",
       "       'Heroes of Hammerwatch', 'Ghost of a Tale', 'Monster Prom',\n",
       "       'Farm Manager 2018', 'Rules Of Survival', 'STEINS;GATE 0',\n",
       "       'Ancestors Legacy', 'FAR: Lone Sails',\n",
       "       'Crash Bandicoot™ N. Sane Trilogy', 'Budget Cuts',\n",
       "       'Totally Accurate Battlegrounds', 'Vampyr', 'Clicker Heroes 2',\n",
       "       'Yakuza 0', 'WWE 2K19', 'Warhammer 40,000: Mechanicus',\n",
       "       'Thief Simulator', 'Darksiders III',\n",
       "       'Mutant Year Zero: Road to Eden', 'Kingdom Two Crowns',\n",
       "       'Just Cause 4', 'Planet Coaster', 'Nioh: Complete Edition',\n",
       "       'Europa Universalis IV', 'FINAL FANTASY XII THE ZODIAC AGE',\n",
       "       'Just Cause 3', 'FINAL FANTASY XIV Online',\n",
       "       'Resident Evil 7 Biohazard', 'Torment: Tides of Numenera',\n",
       "       'Detention', 'Pit People', 'Tales of Berseria', 'Urban Empire',\n",
       "       'Avorion', 'Youtubers Life', 'Night in the Woods', 'Golf It!',\n",
       "       'Northgard', 'BERSERK and the Band of the Hawk', 'The Wild Eight',\n",
       "       'Sniper Elite 4', 'For The King', 'WWE 2K17',\n",
       "       'Fairy Fencer F Advent Dark Force', 'Day of Infamy',\n",
       "       'SENRAN KAGURA ESTIVAL VERSUS', 'Streets of Rogue',\n",
       "       'Ultimate Marvel vs. Capcom 3', 'SimAirport', 'Thimbleweed Park',\n",
       "       'Toukiden 2', 'Dead Rising 4', 'X-Plane 11',\n",
       "       'Styx: Shards of Darkness', 'Train Sim World® 2020',\n",
       "       'DRAGON QUEST HEROES™ II', 'Steel Division: Normandy 44', 'DiRT 4',\n",
       "       'Half-Life: Alyx'], dtype=object)"
      ]
     },
     "execution_count": 29,
     "metadata": {},
     "output_type": "execute_result"
    }
   ],
   "source": [
    "#List of Apps reviewed\n",
    "\n",
    "df['app_name'].unique()"
   ]
  },
  {
   "cell_type": "code",
   "execution_count": 47,
   "metadata": {},
   "outputs": [
    {
     "name": "stdout",
     "output_type": "stream",
     "text": [
      "Total reviews: 21612444\n",
      "\n",
      "Unique apps: 315\n",
      "\n",
      "Average helpful votes: 404468.8552777713\n",
      "\n",
      "Number of reviews for app (first rows): app_name\n",
      "PLAYERUNKNOWN'S BATTLEGROUNDS     1644255\n",
      "Grand Theft Auto V                1019116\n",
      "Tom Clancy's Rainbow Six Siege     841918\n",
      "Terraria                           672815\n",
      "Garry's Mod                        655524\n",
      "Name: count, dtype: int64\n",
      "\n",
      "Top 5 apps with the most reviews:  app_name\n",
      "PLAYERUNKNOWN'S BATTLEGROUNDS     1644255\n",
      "Grand Theft Auto V                1019116\n",
      "Tom Clancy's Rainbow Six Siege     841918\n",
      "Terraria                           672815\n",
      "Garry's Mod                        655524\n",
      "Name: count, dtype: int64\n",
      "\n",
      "Top 5 authors with the most reviews: author.steamid\n",
      "76561198062813911    149\n",
      "76561198315585536    132\n",
      "76561198192166873    107\n",
      "76561198239163744    106\n",
      "76561198045381877    103\n",
      "Name: count, dtype: int64\n",
      "\n",
      "Average playtime forever: 16091.04968789558\n"
     ]
    }
   ],
   "source": [
    "# Other Stats\n",
    "functions.stats(df)"
   ]
  },
  {
   "cell_type": "markdown",
   "metadata": {},
   "source": [
    "#### **3. Visualize**\n",
    "\n",
    "Lastly, we want to plot the dataset to understand the correlations between columns."
   ]
  },
  {
   "cell_type": "code",
   "execution_count": null,
   "metadata": {},
   "outputs": [],
   "source": [
    "functions.visualize(df)"
   ]
  },
  {
   "cell_type": "markdown",
   "metadata": {},
   "source": [
    "### **[RQ2] - Analysis of the Distribution of reviews**"
   ]
  },
  {
   "cell_type": "markdown",
   "metadata": {},
   "source": [
    "1. Identify which applications have the highest and lowest number of reviews"
   ]
  },
  {
   "cell_type": "code",
   "execution_count": 20,
   "metadata": {},
   "outputs": [
    {
     "name": "stdout",
     "output_type": "stream",
     "text": [
      "Top apps with the most reviews:                            app_name  count_reviews\n",
      "196  PLAYERUNKNOWN'S BATTLEGROUNDS        1644255\n",
      "\n",
      "Top apps with the minimum reviews:             app_name  count_reviews\n",
      "144  Neon Hardcorps            200\n",
      "\n"
     ]
    }
   ],
   "source": [
    "\n",
    "functions.highest_lowest_reviews_applications(df)\n"
   ]
  },
  {
   "cell_type": "markdown",
   "metadata": {},
   "source": [
    "2. Plot the number of reviews for each application in descending order. What insights can you draw from the plot?\n"
   ]
  },
  {
   "cell_type": "code",
   "execution_count": 28,
   "metadata": {},
   "outputs": [
    {
     "data": {
      "image/png": "[encoded data removed]",
      "text/plain": [
       "<Figure size 1000x600 with 1 Axes>"
      ]
     },
     "metadata": {},
     "output_type": "display_data"
    }
   ],
   "source": [
    "functions.reviews_count_plot(df)"
   ]
  },
  {
   "cell_type": "markdown",
   "metadata": {},
   "source": [
    "3. For the top 5 applications by number of reviews, how many reviews came from users who purchased the application versus those who received it for free? Provide a percentage breakdown and highlight any similarities.\n"
   ]
  },
  {
   "cell_type": "code",
   "execution_count": null,
   "metadata": {},
   "outputs": [],
   "source": []
  },
  {
   "cell_type": "markdown",
   "metadata": {},
   "source": [
    "4. Which applications have the most and the least user recommendations? Summarize your findings.\n"
   ]
  },
  {
   "cell_type": "code",
   "execution_count": null,
   "metadata": {},
   "outputs": [],
   "source": []
  },
  {
   "cell_type": "markdown",
   "metadata": {},
   "source": [
    "5. Is there a correlation between the number of recommendations and the applications' review scores? Use a statistical test to confirm the significance of the relationship.\n"
   ]
  },
  {
   "cell_type": "code",
   "execution_count": null,
   "metadata": {},
   "outputs": [],
   "source": []
  }
 ],
 "metadata": {
  "kernelspec": {
   "display_name": "Python 3",
   "language": "python",
   "name": "python3"
  },
  "language_info": {
   "codemirror_mode": {
    "name": "ipython",
    "version": 3
   },
   "file_extension": ".py",
   "mimetype": "text/x-python",
   "name": "python",
   "nbconvert_exporter": "python",
   "pygments_lexer": "ipython3",
   "version": "3.11.9"
  }
 },
 "nbformat": 4,
 "nbformat_minor": 2
}
